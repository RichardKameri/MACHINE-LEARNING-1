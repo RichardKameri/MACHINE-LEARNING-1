{
  "nbformat": 4,
  "nbformat_minor": 0,
  "metadata": {
    "colab": {
      "provenance": [],
      "authorship_tag": "ABX9TyMpqijd9bkQt1ThFtCfLIVd",
      "include_colab_link": true
    },
    "kernelspec": {
      "name": "python3",
      "display_name": "Python 3"
    },
    "language_info": {
      "name": "python"
    }
  },
  "cells": [
    {
      "cell_type": "markdown",
      "metadata": {
        "id": "view-in-github",
        "colab_type": "text"
      },
      "source": [
        "<a href=\"https://colab.research.google.com/github/RichardKameri/Ml1/blob/main/ml1.ipynb\" target=\"_parent\"><img src=\"https://colab.research.google.com/assets/colab-badge.svg\" alt=\"Open In Colab\"/></a>"
      ]
    },
    {
      "cell_type": "code",
      "execution_count": 1,
      "metadata": {
        "colab": {
          "base_uri": "https://localhost:8080/"
        },
        "id": "0__-TJoczndY",
        "outputId": "9b3756a3-737f-43c7-8f70-ed6430a5ba4e"
      },
      "outputs": [
        {
          "output_type": "stream",
          "name": "stdout",
          "text": [
            "Requirement already satisfied: pandas in /usr/local/lib/python3.10/dist-packages (2.2.2)\n",
            "Requirement already satisfied: scikit-learn in /usr/local/lib/python3.10/dist-packages (1.5.2)\n",
            "Requirement already satisfied: numpy>=1.22.4 in /usr/local/lib/python3.10/dist-packages (from pandas) (1.26.4)\n",
            "Requirement already satisfied: python-dateutil>=2.8.2 in /usr/local/lib/python3.10/dist-packages (from pandas) (2.8.2)\n",
            "Requirement already satisfied: pytz>=2020.1 in /usr/local/lib/python3.10/dist-packages (from pandas) (2024.2)\n",
            "Requirement already satisfied: tzdata>=2022.7 in /usr/local/lib/python3.10/dist-packages (from pandas) (2024.2)\n",
            "Requirement already satisfied: scipy>=1.6.0 in /usr/local/lib/python3.10/dist-packages (from scikit-learn) (1.13.1)\n",
            "Requirement already satisfied: joblib>=1.2.0 in /usr/local/lib/python3.10/dist-packages (from scikit-learn) (1.4.2)\n",
            "Requirement already satisfied: threadpoolctl>=3.1.0 in /usr/local/lib/python3.10/dist-packages (from scikit-learn) (3.5.0)\n",
            "Requirement already satisfied: six>=1.5 in /usr/local/lib/python3.10/dist-packages (from python-dateutil>=2.8.2->pandas) (1.16.0)\n"
          ]
        }
      ],
      "source": [
        "pip install pandas scikit-learn\n"
      ]
    },
    {
      "cell_type": "code",
      "source": [
        "import pandas as pd\n",
        "from sklearn.preprocessing import OneHotEncoder\n"
      ],
      "metadata": {
        "id": "E2b7nRch0ZlL"
      },
      "execution_count": 2,
      "outputs": []
    },
    {
      "cell_type": "code",
      "source": [
        "data = {\n",
        "    'City': ['Paris', 'Berlin', 'London', 'Paris', 'Berlin'],\n",
        "    'Temperature': ['Hot', 'Cold', 'Warm', 'Hot', 'Warm']\n",
        "}\n",
        "df = pd.DataFrame(data)\n",
        "print(df)\n"
      ],
      "metadata": {
        "colab": {
          "base_uri": "https://localhost:8080/"
        },
        "id": "KuJ5Rcma0gUI",
        "outputId": "ad661fbd-c6a5-4af2-b4d3-d9927ffed497"
      },
      "execution_count": 3,
      "outputs": [
        {
          "output_type": "stream",
          "name": "stdout",
          "text": [
            "     City Temperature\n",
            "0   Paris         Hot\n",
            "1  Berlin        Cold\n",
            "2  London        Warm\n",
            "3   Paris         Hot\n",
            "4  Berlin        Warm\n"
          ]
        }
      ]
    },
    {
      "cell_type": "markdown",
      "source": [
        "Apply One-Hot Encoding\n",
        "\n",
        "Create an instance of OneHotEncoder"
      ],
      "metadata": {
        "id": "JdJ1-qAE0uXy"
      }
    },
    {
      "cell_type": "code",
      "source": [
        "# create an instance of onehot encoder\n",
        "encoder = OneHotEncoder()"
      ],
      "metadata": {
        "id": "3Ra5iJP70-Np"
      },
      "execution_count": 4,
      "outputs": []
    },
    {
      "cell_type": "markdown",
      "source": [
        "fit and Transform the Data:"
      ],
      "metadata": {
        "id": "3pBCzGg61U50"
      }
    },
    {
      "cell_type": "code",
      "source": [
        "# fit and transform the data\n",
        "encoded_data = encoder.fit_transform(df[['City']])"
      ],
      "metadata": {
        "id": "ttDm-_sd1aKZ"
      },
      "execution_count": 5,
      "outputs": []
    },
    {
      "cell_type": "markdown",
      "source": [
        "Convert the encoded data back into a dataframe"
      ],
      "metadata": {
        "id": "V1C6ov9y11gO"
      }
    },
    {
      "cell_type": "code",
      "source": [
        "# Convert the encoded data back into a dataframe\n",
        "encoded_df = pd.DataFrame(encoded_data.toarray(), columns=encoder.get_feature_names_out(['City']))"
      ],
      "metadata": {
        "id": "vXE21osR15iq"
      },
      "execution_count": 6,
      "outputs": []
    },
    {
      "cell_type": "markdown",
      "source": [
        ": Combine Encoded Data with the Original Data"
      ],
      "metadata": {
        "id": "PIw-urgz2XLD"
      }
    },
    {
      "cell_type": "code",
      "source": [
        "# : Combine Encoded Data with the Original Data\n",
        "combined_df = pd.concat([df, encoded_df], axis=1)\n",
        "print(combined_df)"
      ],
      "metadata": {
        "colab": {
          "base_uri": "https://localhost:8080/"
        },
        "id": "hIIFTyyf2Z13",
        "outputId": "68fe007f-3b3e-4e82-d25d-e625dae727dd"
      },
      "execution_count": 7,
      "outputs": [
        {
          "output_type": "stream",
          "name": "stdout",
          "text": [
            "     City Temperature  City_Berlin  City_London  City_Paris\n",
            "0   Paris         Hot          0.0          0.0         1.0\n",
            "1  Berlin        Cold          1.0          0.0         0.0\n",
            "2  London        Warm          0.0          1.0         0.0\n",
            "3   Paris         Hot          0.0          0.0         1.0\n",
            "4  Berlin        Warm          1.0          0.0         0.0\n"
          ]
        }
      ]
    },
    {
      "cell_type": "markdown",
      "source": [
        "Compelete code"
      ],
      "metadata": {
        "id": "293FuTYL2x0h"
      }
    },
    {
      "cell_type": "code",
      "source": [
        "import pandas as pd\n",
        "from sklearn.preprocessing import OneHotEncoder\n",
        "\n",
        "# Sample dataset\n",
        "data = {\n",
        "    'City': ['Paris', 'Berlin', 'London', 'Paris', 'Berlin'],\n",
        "    'Temperature': ['Hot', 'Cold', 'Warm', 'Hot', 'Warm']\n",
        "}\n",
        "df = pd.DataFrame(data)\n",
        "print(\"Original DataFrame:\")\n",
        "print(df)\n",
        "\n",
        "# Instantiate the encoder\n",
        "encoder = OneHotEncoder()\n",
        "\n",
        "# Fit and transform the data\n",
        "encoded_data = encoder.fit_transform(df[['City', 'Temperature']])\n",
        "\n",
        "# Convert to DataFrame\n",
        "#encoded_df = pd.DataFrame(encoded_data.toarray(), columns=encoder.get_feature_names_out(['City']))\n",
        "print(\"\\nEncoded DataFrame:\")\n",
        "print(encoded_df)\n",
        "\n",
        "# Combine encoded data with original data\n",
        "final_df = pd.concat([df, encoded_df], axis=1)\n",
        "print(\"\\nFinal DataFrame:\")\n",
        "print(final_df)\n"
      ],
      "metadata": {
        "colab": {
          "base_uri": "https://localhost:8080/"
        },
        "id": "4uUh4liD20iz",
        "outputId": "b86e7815-9025-4a1a-ec89-b07284dbe323"
      },
      "execution_count": 8,
      "outputs": [
        {
          "output_type": "stream",
          "name": "stdout",
          "text": [
            "Original DataFrame:\n",
            "     City Temperature\n",
            "0   Paris         Hot\n",
            "1  Berlin        Cold\n",
            "2  London        Warm\n",
            "3   Paris         Hot\n",
            "4  Berlin        Warm\n",
            "\n",
            "Encoded DataFrame:\n",
            "   City_Berlin  City_London  City_Paris\n",
            "0          0.0          0.0         1.0\n",
            "1          1.0          0.0         0.0\n",
            "2          0.0          1.0         0.0\n",
            "3          0.0          0.0         1.0\n",
            "4          1.0          0.0         0.0\n",
            "\n",
            "Final DataFrame:\n",
            "     City Temperature  City_Berlin  City_London  City_Paris\n",
            "0   Paris         Hot          0.0          0.0         1.0\n",
            "1  Berlin        Cold          1.0          0.0         0.0\n",
            "2  London        Warm          0.0          1.0         0.0\n",
            "3   Paris         Hot          0.0          0.0         1.0\n",
            "4  Berlin        Warm          1.0          0.0         0.0\n"
          ]
        }
      ]
    }
  ]
}